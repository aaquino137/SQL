{
 "cells": [
  {
   "cell_type": "code",
   "execution_count": null,
   "id": "be93ebae",
   "metadata": {},
   "outputs": [],
   "source": [
    "## Schema Chart\n",
    "titles\n",
    "-\n",
    "title_id VARCHAR PK\n",
    "title VARCHAR\n",
    "employees\n",
    "-\n",
    "emp_no INTEGER PK\n",
    "emp_title_id VARCHAR FK >- titles.title_id\n",
    "birth_date DATE\n",
    "first_name VARCHAR\n",
    "last_name VARCHAR\n",
    "sex VARCHAR\n",
    "hire_date DATE\n",
    "departments\n",
    "-\n",
    "dept_no VARCHAR PK\n",
    "dept_name VARCHAR\n",
    "dept_manager\n",
    "-\n",
    "dept_no VARCHAR PK\n",
    "emp_no INTEGER PK FK >- employees.emp_no\n",
    "dept_emp\n",
    "-\n",
    "emp_no INTEGER PK FK >- employees.emp_no\n",
    "dept_no VARCHAR PK FK >- departments.dept_no\n",
    "salaries\n",
    "-\n",
    "emp_no Integer PK FK >- employees.emp_no\n",
    "salary Integer"
   ]
  },
  {
   "cell_type": "code",
   "execution_count": null,
   "id": "3c69c5d5",
   "metadata": {},
   "outputs": [],
   "source": [
    "## Schema \n",
    "CREATE TABLE Titles (\n",
    "\ttitle_id VARCHAR NOT NULL,\n",
    "\ttitle VARCHAR NOT NULL,\n",
    "\tPRIMARY KEY (title_id)\n",
    "\t);\n",
    "\t\n",
    "CREATE TABLE Employees (\n",
    "    emp_no INTEGER NOT NULL,\n",
    "    emp_title_id VARCHAR NOT NULL,\n",
    "    birth_date DATE NOT NULL,\n",
    "    first_name VARCHAR NOT NULL,\n",
    "\tlast_name VARCHAR NOT NULL,\n",
    "\tsex VARCHAR NOT NULL,\n",
    "\thire_date DATE NOT NULL,\n",
    "\tPRIMARY KEY (emp_no),\n",
    "\tFOREIGN KEY(emp_title_id) REFERENCES Titles (title_id)\n",
    "\t);\n",
    "\t\n",
    "CREATE TABLE Departments (\n",
    "    dept_no VARCHAR NOT NULL,\n",
    "    dept_name VARCHAR NOT NULL,\n",
    "\tPRIMARY KEY (dept_no)\n",
    ");\n",
    "CREATE TABLE Dept_Emp (\n",
    "    emp_no INTEGER NOT NULL,\n",
    "    dept_no VARCHAR NOT NULL,\n",
    "    PRIMARY KEY (emp_no, dept_no),\n",
    "\tFOREIGN KEY(emp_no) REFERENCES Employees (emp_no),\n",
    "\tFOREIGN KEY(dept_no) REFERENCES Departments (dept_no)\n",
    "    );\n",
    "CREATE TABLE Dept_Manager (\n",
    "    dept_no VARCHAR NOT NULL,\n",
    "    emp_no INTEGER NOT NULL,\n",
    "    PRIMARY KEY (dept_no, emp_no),\n",
    "    FOREIGN KEY(emp_no) REFERENCES Employees (emp_no),\n",
    "\tFOREIGN KEY(dept_no) REFERENCES Departments (dept_no)\n",
    ");\n",
    "CREATE TABLE Salaries (\n",
    "\temp_no INTEGER NOT NULL,\n",
    "\tsalary INTEGER NOT NULL,\n",
    "\tPRIMARY KEY (emp_no),\n",
    "\tFOREIGN KEY(emp_no) REFERENCES Employees (emp_no)\n",
    ");"
   ]
  },
  {
   "cell_type": "code",
   "execution_count": null,
   "id": "01d2e5af",
   "metadata": {},
   "outputs": [],
   "source": [
    "#List the employee number, last name, first name, sex, and salary of each employee.\n",
    "SELECT e.emp_no, e.last_name, e.first_name, e.sex, s.salary\n",
    "FROM employees as e\n",
    "INNER JOIN salaries as s ON\n",
    "e.emp_no=s.emp_no; "
   ]
  },
  {
   "cell_type": "code",
   "execution_count": null,
   "id": "c0ff94bc",
   "metadata": {},
   "outputs": [],
   "source": [
    "#List the first name, last name, and hire date for the employees who were hired in 1986.\n",
    "SELECT first_name, last_name, hire_date\n",
    "FROM employees\n",
    "WHERE hire_date BETWEEN '01/01/1986' AND '12/31/1986'"
   ]
  },
  {
   "cell_type": "code",
   "execution_count": null,
   "id": "7f542991",
   "metadata": {},
   "outputs": [],
   "source": [
    "#List the manager of each department along with their department number, department name, employee number, last name, and first name.\n",
    "SELECT dm.emp_no, dm.dept_no, dept.dept_name,e.last_name, e.first_name\n",
    "FROM employees as e\n",
    "INNER JOIN dept_manager as dm ON\n",
    "e.emp_no=dm.emp_no\n",
    "INNER JOIN dept_emp as de ON\n",
    "e.emp_no = de.emp_no\n",
    "INNER JOIN departments as dept ON\n",
    "de.dept_no = dept.dept_no;"
   ]
  },
  {
   "cell_type": "code",
   "execution_count": null,
   "id": "47b3aa6b",
   "metadata": {},
   "outputs": [],
   "source": [
    "#List the department number for each employee along with that employee’s employee number, last name, first name, and department name.\n",
    "SELECT de.dept_no, e.emp_no, e.last_name, e.first_name, dept.dept_name\n",
    "FROM employees as e\n",
    "INNER JOIN dept_emp as de ON\n",
    "e.emp_no = de.emp_no\n",
    "INNER JOIN departments as dept ON\n",
    "de.dept_no = dept.dept_no;"
   ]
  },
  {
   "cell_type": "code",
   "execution_count": null,
   "id": "be8db369",
   "metadata": {},
   "outputs": [],
   "source": [
    "#List first name, last name, and sex of each employee whose first name is Hercules and whose last name begins with the letter B.\n",
    "SELECT first_name, last_name, sex\n",
    "FROM employees\n",
    "WHERE first_name = 'Hercules'\n",
    "AND last_name LIKE 'B%'"
   ]
  },
  {
   "cell_type": "code",
   "execution_count": null,
   "id": "485936a9",
   "metadata": {},
   "outputs": [],
   "source": [
    "#List each employee in the Sales department, including their employee number, last name, and first name.\n",
    "SELECT e.emp_no, e.last_name, e.first_name, dept.dept_name\n",
    "FROM employees as e\n",
    "INNER JOIN dept_emp as de ON\n",
    "e.emp_no = de.emp_no\n",
    "INNER JOIN departments as dept ON\n",
    "de.dept_no = dept.dept_no\n",
    "WHERE \n",
    "\tdept_name = 'Sales';"
   ]
  },
  {
   "cell_type": "code",
   "execution_count": null,
   "id": "f22d6e84",
   "metadata": {},
   "outputs": [],
   "source": [
    "#List each employee in the Sales and Development departments, including their employee number, last name, first name, and department name.\n",
    "SELECT  e.emp_no, e.last_name, e.first_name, dept.dept_name\n",
    "FROM employees as e\n",
    "INNER JOIN dept_emp as de ON\n",
    "e.emp_no = de.emp_no\n",
    "INNER JOIN departments as dept ON\n",
    "de.dept_no = dept.dept_no\n",
    "WHERE \n",
    "\tdept_name = 'Sales'\n",
    "OR\n",
    "\tdept_name = 'Development';"
   ]
  },
  {
   "cell_type": "code",
   "execution_count": null,
   "id": "8f940176",
   "metadata": {},
   "outputs": [],
   "source": [
    "#List the frequency counts, in descending order, of all the employee last names (that is, how many employees share each last name).\n",
    "SELECT last_name,COUNT (last_name) AS Frequency\n",
    "FROM employees\n",
    "GROUP BY last_name\n",
    "ORDER BY\n",
    "COUNT (last_name) DESC;"
   ]
  }
 ],
 "metadata": {
  "kernelspec": {
   "display_name": "Python 3 (ipykernel)",
   "language": "python",
   "name": "python3"
  },
  "language_info": {
   "codemirror_mode": {
    "name": "ipython",
    "version": 3
   },
   "file_extension": ".py",
   "mimetype": "text/x-python",
   "name": "python",
   "nbconvert_exporter": "python",
   "pygments_lexer": "ipython3",
   "version": "3.9.13"
  }
 },
 "nbformat": 4,
 "nbformat_minor": 5
}
